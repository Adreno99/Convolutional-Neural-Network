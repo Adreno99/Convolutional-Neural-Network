{
 "cells": [
  {
   "cell_type": "markdown",
   "id": "1ead3307",
   "metadata": {},
   "source": [
    "## IMPORTING LIBS"
   ]
  },
  {
   "cell_type": "code",
   "execution_count": 1,
   "id": "8ece5762",
   "metadata": {},
   "outputs": [],
   "source": [
    "import numpy as np\n",
    "import pandas as pd\n",
    "import tensorflow as tf\n",
    "import matplotlib.pyplot as plt\n",
    "from sklearn.model_selection import train_test_split\n",
    "import keras\n",
    "from keras.models import Sequential\n",
    "from keras.layers import Conv2D,MaxPooling2D,Dense,Flatten,Dropout\n",
    "num_classes = 10\n",
    "epochs = 10"
   ]
  },
  {
   "cell_type": "markdown",
   "id": "020e9256",
   "metadata": {},
   "source": [
    "## IMPORTING DATASET"
   ]
  },
  {
   "cell_type": "code",
   "execution_count": 2,
   "id": "5130bb6a",
   "metadata": {},
   "outputs": [],
   "source": [
    "train_df=pd.read_csv('mnist_train.csv')\n",
    "test_df=pd.read_csv('mnist_test.csv')"
   ]
  },
  {
   "cell_type": "code",
   "execution_count": 3,
   "id": "78bb8af0",
   "metadata": {},
   "outputs": [
    {
     "data": {
      "text/html": [
       "<div>\n",
       "<style scoped>\n",
       "    .dataframe tbody tr th:only-of-type {\n",
       "        vertical-align: middle;\n",
       "    }\n",
       "\n",
       "    .dataframe tbody tr th {\n",
       "        vertical-align: top;\n",
       "    }\n",
       "\n",
       "    .dataframe thead th {\n",
       "        text-align: right;\n",
       "    }\n",
       "</style>\n",
       "<table border=\"1\" class=\"dataframe\">\n",
       "  <thead>\n",
       "    <tr style=\"text-align: right;\">\n",
       "      <th></th>\n",
       "      <th>label</th>\n",
       "      <th>pixel1</th>\n",
       "      <th>pixel2</th>\n",
       "      <th>pixel3</th>\n",
       "      <th>pixel4</th>\n",
       "      <th>pixel5</th>\n",
       "      <th>pixel6</th>\n",
       "      <th>pixel7</th>\n",
       "      <th>pixel8</th>\n",
       "      <th>pixel9</th>\n",
       "      <th>...</th>\n",
       "      <th>pixel775</th>\n",
       "      <th>pixel776</th>\n",
       "      <th>pixel777</th>\n",
       "      <th>pixel778</th>\n",
       "      <th>pixel779</th>\n",
       "      <th>pixel780</th>\n",
       "      <th>pixel781</th>\n",
       "      <th>pixel782</th>\n",
       "      <th>pixel783</th>\n",
       "      <th>pixel784</th>\n",
       "    </tr>\n",
       "  </thead>\n",
       "  <tbody>\n",
       "    <tr>\n",
       "      <th>0</th>\n",
       "      <td>2</td>\n",
       "      <td>0</td>\n",
       "      <td>0</td>\n",
       "      <td>0</td>\n",
       "      <td>0</td>\n",
       "      <td>0</td>\n",
       "      <td>0</td>\n",
       "      <td>0</td>\n",
       "      <td>0</td>\n",
       "      <td>0</td>\n",
       "      <td>...</td>\n",
       "      <td>0</td>\n",
       "      <td>0</td>\n",
       "      <td>0</td>\n",
       "      <td>0</td>\n",
       "      <td>0</td>\n",
       "      <td>0</td>\n",
       "      <td>0</td>\n",
       "      <td>0</td>\n",
       "      <td>0</td>\n",
       "      <td>0</td>\n",
       "    </tr>\n",
       "    <tr>\n",
       "      <th>1</th>\n",
       "      <td>9</td>\n",
       "      <td>0</td>\n",
       "      <td>0</td>\n",
       "      <td>0</td>\n",
       "      <td>0</td>\n",
       "      <td>0</td>\n",
       "      <td>0</td>\n",
       "      <td>0</td>\n",
       "      <td>0</td>\n",
       "      <td>0</td>\n",
       "      <td>...</td>\n",
       "      <td>0</td>\n",
       "      <td>0</td>\n",
       "      <td>0</td>\n",
       "      <td>0</td>\n",
       "      <td>0</td>\n",
       "      <td>0</td>\n",
       "      <td>0</td>\n",
       "      <td>0</td>\n",
       "      <td>0</td>\n",
       "      <td>0</td>\n",
       "    </tr>\n",
       "    <tr>\n",
       "      <th>2</th>\n",
       "      <td>6</td>\n",
       "      <td>0</td>\n",
       "      <td>0</td>\n",
       "      <td>0</td>\n",
       "      <td>0</td>\n",
       "      <td>0</td>\n",
       "      <td>0</td>\n",
       "      <td>0</td>\n",
       "      <td>5</td>\n",
       "      <td>0</td>\n",
       "      <td>...</td>\n",
       "      <td>0</td>\n",
       "      <td>0</td>\n",
       "      <td>0</td>\n",
       "      <td>30</td>\n",
       "      <td>43</td>\n",
       "      <td>0</td>\n",
       "      <td>0</td>\n",
       "      <td>0</td>\n",
       "      <td>0</td>\n",
       "      <td>0</td>\n",
       "    </tr>\n",
       "    <tr>\n",
       "      <th>3</th>\n",
       "      <td>0</td>\n",
       "      <td>0</td>\n",
       "      <td>0</td>\n",
       "      <td>0</td>\n",
       "      <td>1</td>\n",
       "      <td>2</td>\n",
       "      <td>0</td>\n",
       "      <td>0</td>\n",
       "      <td>0</td>\n",
       "      <td>0</td>\n",
       "      <td>...</td>\n",
       "      <td>3</td>\n",
       "      <td>0</td>\n",
       "      <td>0</td>\n",
       "      <td>0</td>\n",
       "      <td>0</td>\n",
       "      <td>1</td>\n",
       "      <td>0</td>\n",
       "      <td>0</td>\n",
       "      <td>0</td>\n",
       "      <td>0</td>\n",
       "    </tr>\n",
       "    <tr>\n",
       "      <th>4</th>\n",
       "      <td>3</td>\n",
       "      <td>0</td>\n",
       "      <td>0</td>\n",
       "      <td>0</td>\n",
       "      <td>0</td>\n",
       "      <td>0</td>\n",
       "      <td>0</td>\n",
       "      <td>0</td>\n",
       "      <td>0</td>\n",
       "      <td>0</td>\n",
       "      <td>...</td>\n",
       "      <td>0</td>\n",
       "      <td>0</td>\n",
       "      <td>0</td>\n",
       "      <td>0</td>\n",
       "      <td>0</td>\n",
       "      <td>0</td>\n",
       "      <td>0</td>\n",
       "      <td>0</td>\n",
       "      <td>0</td>\n",
       "      <td>0</td>\n",
       "    </tr>\n",
       "  </tbody>\n",
       "</table>\n",
       "<p>5 rows × 785 columns</p>\n",
       "</div>"
      ],
      "text/plain": [
       "   label  pixel1  pixel2  pixel3  pixel4  pixel5  pixel6  pixel7  pixel8  \\\n",
       "0      2       0       0       0       0       0       0       0       0   \n",
       "1      9       0       0       0       0       0       0       0       0   \n",
       "2      6       0       0       0       0       0       0       0       5   \n",
       "3      0       0       0       0       1       2       0       0       0   \n",
       "4      3       0       0       0       0       0       0       0       0   \n",
       "\n",
       "   pixel9  ...  pixel775  pixel776  pixel777  pixel778  pixel779  pixel780  \\\n",
       "0       0  ...         0         0         0         0         0         0   \n",
       "1       0  ...         0         0         0         0         0         0   \n",
       "2       0  ...         0         0         0        30        43         0   \n",
       "3       0  ...         3         0         0         0         0         1   \n",
       "4       0  ...         0         0         0         0         0         0   \n",
       "\n",
       "   pixel781  pixel782  pixel783  pixel784  \n",
       "0         0         0         0         0  \n",
       "1         0         0         0         0  \n",
       "2         0         0         0         0  \n",
       "3         0         0         0         0  \n",
       "4         0         0         0         0  \n",
       "\n",
       "[5 rows x 785 columns]"
      ]
     },
     "execution_count": 3,
     "metadata": {},
     "output_type": "execute_result"
    }
   ],
   "source": [
    "train_df.head()"
   ]
  },
  {
   "cell_type": "code",
   "execution_count": 4,
   "id": "bee96583",
   "metadata": {},
   "outputs": [
    {
     "data": {
      "text/html": [
       "<div>\n",
       "<style scoped>\n",
       "    .dataframe tbody tr th:only-of-type {\n",
       "        vertical-align: middle;\n",
       "    }\n",
       "\n",
       "    .dataframe tbody tr th {\n",
       "        vertical-align: top;\n",
       "    }\n",
       "\n",
       "    .dataframe thead th {\n",
       "        text-align: right;\n",
       "    }\n",
       "</style>\n",
       "<table border=\"1\" class=\"dataframe\">\n",
       "  <thead>\n",
       "    <tr style=\"text-align: right;\">\n",
       "      <th></th>\n",
       "      <th>label</th>\n",
       "      <th>pixel1</th>\n",
       "      <th>pixel2</th>\n",
       "      <th>pixel3</th>\n",
       "      <th>pixel4</th>\n",
       "      <th>pixel5</th>\n",
       "      <th>pixel6</th>\n",
       "      <th>pixel7</th>\n",
       "      <th>pixel8</th>\n",
       "      <th>pixel9</th>\n",
       "      <th>...</th>\n",
       "      <th>pixel775</th>\n",
       "      <th>pixel776</th>\n",
       "      <th>pixel777</th>\n",
       "      <th>pixel778</th>\n",
       "      <th>pixel779</th>\n",
       "      <th>pixel780</th>\n",
       "      <th>pixel781</th>\n",
       "      <th>pixel782</th>\n",
       "      <th>pixel783</th>\n",
       "      <th>pixel784</th>\n",
       "    </tr>\n",
       "  </thead>\n",
       "  <tbody>\n",
       "    <tr>\n",
       "      <th>0</th>\n",
       "      <td>0</td>\n",
       "      <td>0</td>\n",
       "      <td>0</td>\n",
       "      <td>0</td>\n",
       "      <td>0</td>\n",
       "      <td>0</td>\n",
       "      <td>0</td>\n",
       "      <td>0</td>\n",
       "      <td>9</td>\n",
       "      <td>8</td>\n",
       "      <td>...</td>\n",
       "      <td>103</td>\n",
       "      <td>87</td>\n",
       "      <td>56</td>\n",
       "      <td>0</td>\n",
       "      <td>0</td>\n",
       "      <td>0</td>\n",
       "      <td>0</td>\n",
       "      <td>0</td>\n",
       "      <td>0</td>\n",
       "      <td>0</td>\n",
       "    </tr>\n",
       "    <tr>\n",
       "      <th>1</th>\n",
       "      <td>1</td>\n",
       "      <td>0</td>\n",
       "      <td>0</td>\n",
       "      <td>0</td>\n",
       "      <td>0</td>\n",
       "      <td>0</td>\n",
       "      <td>0</td>\n",
       "      <td>0</td>\n",
       "      <td>0</td>\n",
       "      <td>0</td>\n",
       "      <td>...</td>\n",
       "      <td>34</td>\n",
       "      <td>0</td>\n",
       "      <td>0</td>\n",
       "      <td>0</td>\n",
       "      <td>0</td>\n",
       "      <td>0</td>\n",
       "      <td>0</td>\n",
       "      <td>0</td>\n",
       "      <td>0</td>\n",
       "      <td>0</td>\n",
       "    </tr>\n",
       "    <tr>\n",
       "      <th>2</th>\n",
       "      <td>2</td>\n",
       "      <td>0</td>\n",
       "      <td>0</td>\n",
       "      <td>0</td>\n",
       "      <td>0</td>\n",
       "      <td>0</td>\n",
       "      <td>0</td>\n",
       "      <td>14</td>\n",
       "      <td>53</td>\n",
       "      <td>99</td>\n",
       "      <td>...</td>\n",
       "      <td>0</td>\n",
       "      <td>0</td>\n",
       "      <td>0</td>\n",
       "      <td>0</td>\n",
       "      <td>63</td>\n",
       "      <td>53</td>\n",
       "      <td>31</td>\n",
       "      <td>0</td>\n",
       "      <td>0</td>\n",
       "      <td>0</td>\n",
       "    </tr>\n",
       "    <tr>\n",
       "      <th>3</th>\n",
       "      <td>2</td>\n",
       "      <td>0</td>\n",
       "      <td>0</td>\n",
       "      <td>0</td>\n",
       "      <td>0</td>\n",
       "      <td>0</td>\n",
       "      <td>0</td>\n",
       "      <td>0</td>\n",
       "      <td>0</td>\n",
       "      <td>0</td>\n",
       "      <td>...</td>\n",
       "      <td>137</td>\n",
       "      <td>126</td>\n",
       "      <td>140</td>\n",
       "      <td>0</td>\n",
       "      <td>133</td>\n",
       "      <td>224</td>\n",
       "      <td>222</td>\n",
       "      <td>56</td>\n",
       "      <td>0</td>\n",
       "      <td>0</td>\n",
       "    </tr>\n",
       "    <tr>\n",
       "      <th>4</th>\n",
       "      <td>3</td>\n",
       "      <td>0</td>\n",
       "      <td>0</td>\n",
       "      <td>0</td>\n",
       "      <td>0</td>\n",
       "      <td>0</td>\n",
       "      <td>0</td>\n",
       "      <td>0</td>\n",
       "      <td>0</td>\n",
       "      <td>0</td>\n",
       "      <td>...</td>\n",
       "      <td>0</td>\n",
       "      <td>0</td>\n",
       "      <td>0</td>\n",
       "      <td>0</td>\n",
       "      <td>0</td>\n",
       "      <td>0</td>\n",
       "      <td>0</td>\n",
       "      <td>0</td>\n",
       "      <td>0</td>\n",
       "      <td>0</td>\n",
       "    </tr>\n",
       "  </tbody>\n",
       "</table>\n",
       "<p>5 rows × 785 columns</p>\n",
       "</div>"
      ],
      "text/plain": [
       "   label  pixel1  pixel2  pixel3  pixel4  pixel5  pixel6  pixel7  pixel8  \\\n",
       "0      0       0       0       0       0       0       0       0       9   \n",
       "1      1       0       0       0       0       0       0       0       0   \n",
       "2      2       0       0       0       0       0       0      14      53   \n",
       "3      2       0       0       0       0       0       0       0       0   \n",
       "4      3       0       0       0       0       0       0       0       0   \n",
       "\n",
       "   pixel9  ...  pixel775  pixel776  pixel777  pixel778  pixel779  pixel780  \\\n",
       "0       8  ...       103        87        56         0         0         0   \n",
       "1       0  ...        34         0         0         0         0         0   \n",
       "2      99  ...         0         0         0         0        63        53   \n",
       "3       0  ...       137       126       140         0       133       224   \n",
       "4       0  ...         0         0         0         0         0         0   \n",
       "\n",
       "   pixel781  pixel782  pixel783  pixel784  \n",
       "0         0         0         0         0  \n",
       "1         0         0         0         0  \n",
       "2        31         0         0         0  \n",
       "3       222        56         0         0  \n",
       "4         0         0         0         0  \n",
       "\n",
       "[5 rows x 785 columns]"
      ]
     },
     "execution_count": 4,
     "metadata": {},
     "output_type": "execute_result"
    }
   ],
   "source": [
    "test_df.head()"
   ]
  },
  {
   "cell_type": "code",
   "execution_count": 5,
   "id": "3b52b772",
   "metadata": {},
   "outputs": [
    {
     "name": "stdout",
     "output_type": "stream",
     "text": [
      "<class 'pandas.core.frame.DataFrame'>\n",
      "RangeIndex: 10000 entries, 0 to 9999\n",
      "Columns: 785 entries, label to pixel784\n",
      "dtypes: int64(785)\n",
      "memory usage: 59.9 MB\n"
     ]
    }
   ],
   "source": [
    "test_df.info()"
   ]
  },
  {
   "cell_type": "markdown",
   "id": "242675fe",
   "metadata": {},
   "source": [
    "## SPLIT TRAIN DATA INTO X AND Y"
   ]
  },
  {
   "cell_type": "code",
   "execution_count": 6,
   "id": "ef90fb25",
   "metadata": {},
   "outputs": [],
   "source": [
    "##convert data into float which is acceptable\n",
    "##to keras\n",
    "train_data=np.array(train_df, dtype='float32')\n",
    "test_data=np.array(test_df, dtype='float32')"
   ]
  },
  {
   "cell_type": "code",
   "execution_count": 7,
   "id": "3b8272b9",
   "metadata": {},
   "outputs": [],
   "source": [
    "##divide into x and y and scaling all values between 0 and 1\n",
    "# and since greyscale values are between 0 and 255(max) so divide by 255\n",
    "x_train=train_data[:,1:]/255\n",
    "y_train=train_data[:,0]\n",
    "x_test=test_data[:,1:]/255\n",
    "y_test=test_data[:,0]"
   ]
  },
  {
   "cell_type": "markdown",
   "id": "a0b2fb6c",
   "metadata": {},
   "source": [
    "## Train-test-valid dataset\n",
    "done using scikitlearn lib"
   ]
  },
  {
   "cell_type": "code",
   "execution_count": 8,
   "id": "bca89ab7",
   "metadata": {},
   "outputs": [],
   "source": [
    "x_train,x_validate, y_train, y_validate=train_test_split(x_train,y_train,test_size=0.2, random_state=1)"
   ]
  },
  {
   "cell_type": "markdown",
   "id": "b621da25",
   "metadata": {},
   "source": [
    "## Visualise the training "
   ]
  },
  {
   "cell_type": "code",
   "execution_count": null,
   "id": "6c4e7d52",
   "metadata": {},
   "outputs": [],
   "source": []
  },
  {
   "cell_type": "markdown",
   "id": "78592a11",
   "metadata": {},
   "source": [
    "# CREATE THE CNN MODEL"
   ]
  },
  {
   "cell_type": "code",
   "execution_count": 9,
   "id": "1a20189c",
   "metadata": {},
   "outputs": [],
   "source": [
    "image_rows=28\n",
    "image_cols=28\n",
    "image_shape=(image_rows,image_cols,1)"
   ]
  },
  {
   "cell_type": "code",
   "execution_count": 10,
   "id": "9e689a38",
   "metadata": {},
   "outputs": [],
   "source": [
    "x_train =x_train.reshape(x_train.shape[0], *image_shape)\n",
    "x_test =x_test.reshape(x_test.shape[0], *image_shape)\n",
    "x_validate =x_validate.reshape(x_validate.shape[0], *image_shape)"
   ]
  },
  {
   "cell_type": "code",
   "execution_count": 11,
   "id": "557ca2ea",
   "metadata": {},
   "outputs": [],
   "source": [
    "cnn_model=Sequential([\n",
    "    Conv2D(filters=32,kernel_size=3, activation='relu', input_shape=image_shape),\n",
    "    MaxPooling2D(pool_size=2),\n",
    "    Dropout(0.2),\n",
    "    Flatten(), #flatten out the layers\n",
    "    Dense(32, activation='relu'),\n",
    "    Dense(10, activation='softmax')\n",
    "])"
   ]
  },
  {
   "cell_type": "markdown",
   "id": "6395e668",
   "metadata": {},
   "source": [
    "## Compile the model"
   ]
  },
  {
   "cell_type": "code",
   "execution_count": 12,
   "id": "e2901cdf",
   "metadata": {},
   "outputs": [],
   "source": [
    "cnn_model.compile(loss='sparse_categorical_crossentropy', optimizer='Adam', metrics=['accuracy'] )"
   ]
  },
  {
   "cell_type": "markdown",
   "id": "0cd22331",
   "metadata": {},
   "source": [
    "## Training the model"
   ]
  },
  {
   "cell_type": "code",
   "execution_count": 13,
   "id": "1f978c5e",
   "metadata": {},
   "outputs": [
    {
     "name": "stdout",
     "output_type": "stream",
     "text": [
      "Epoch 1/20\n",
      "1500/1500 [==============================] - 21s 14ms/step - loss: 0.4705 - accuracy: 0.8350 - val_loss: 0.3413 - val_accuracy: 0.8819\n",
      "Epoch 2/20\n",
      "1500/1500 [==============================] - 20s 13ms/step - loss: 0.3197 - accuracy: 0.8856 - val_loss: 0.3111 - val_accuracy: 0.8906\n",
      "Epoch 3/20\n",
      "1500/1500 [==============================] - 21s 14ms/step - loss: 0.2808 - accuracy: 0.8995 - val_loss: 0.2980 - val_accuracy: 0.8923\n",
      "Epoch 4/20\n",
      "1500/1500 [==============================] - 20s 13ms/step - loss: 0.2562 - accuracy: 0.9063 - val_loss: 0.2778 - val_accuracy: 0.9012\n",
      "Epoch 5/20\n",
      "1500/1500 [==============================] - 20s 14ms/step - loss: 0.2385 - accuracy: 0.9123 - val_loss: 0.2841 - val_accuracy: 0.8978\n",
      "Epoch 6/20\n",
      "1500/1500 [==============================] - 20s 14ms/step - loss: 0.2241 - accuracy: 0.9171 - val_loss: 0.2930 - val_accuracy: 0.8972\n",
      "Epoch 7/20\n",
      "1500/1500 [==============================] - 21s 14ms/step - loss: 0.2108 - accuracy: 0.9227 - val_loss: 0.2915 - val_accuracy: 0.8962\n",
      "Epoch 8/20\n",
      "1500/1500 [==============================] - 21s 14ms/step - loss: 0.1965 - accuracy: 0.9273 - val_loss: 0.2649 - val_accuracy: 0.9082\n",
      "Epoch 9/20\n",
      "1500/1500 [==============================] - 21s 14ms/step - loss: 0.1874 - accuracy: 0.9298 - val_loss: 0.2647 - val_accuracy: 0.9116\n",
      "Epoch 10/20\n",
      "1500/1500 [==============================] - 21s 14ms/step - loss: 0.1755 - accuracy: 0.9349 - val_loss: 0.2686 - val_accuracy: 0.9094\n",
      "Epoch 11/20\n",
      "1500/1500 [==============================] - 21s 14ms/step - loss: 0.1692 - accuracy: 0.9368 - val_loss: 0.2652 - val_accuracy: 0.9122\n",
      "Epoch 12/20\n",
      "1500/1500 [==============================] - 22s 14ms/step - loss: 0.1600 - accuracy: 0.9398 - val_loss: 0.2787 - val_accuracy: 0.9092\n",
      "Epoch 13/20\n",
      "1500/1500 [==============================] - 21s 14ms/step - loss: 0.1518 - accuracy: 0.9420 - val_loss: 0.2747 - val_accuracy: 0.9120\n",
      "Epoch 14/20\n",
      "1500/1500 [==============================] - 22s 14ms/step - loss: 0.1478 - accuracy: 0.9456 - val_loss: 0.2795 - val_accuracy: 0.9130\n",
      "Epoch 15/20\n",
      "1500/1500 [==============================] - 21s 14ms/step - loss: 0.1399 - accuracy: 0.9477 - val_loss: 0.2848 - val_accuracy: 0.9122\n",
      "Epoch 16/20\n",
      "1500/1500 [==============================] - 21s 14ms/step - loss: 0.1371 - accuracy: 0.9487 - val_loss: 0.2868 - val_accuracy: 0.9109\n",
      "Epoch 17/20\n",
      "1500/1500 [==============================] - 21s 14ms/step - loss: 0.1310 - accuracy: 0.9520 - val_loss: 0.2959 - val_accuracy: 0.9069\n",
      "Epoch 18/20\n",
      "1500/1500 [==============================] - 21s 14ms/step - loss: 0.1260 - accuracy: 0.9525 - val_loss: 0.3032 - val_accuracy: 0.9121\n",
      "Epoch 19/20\n",
      "1500/1500 [==============================] - 21s 14ms/step - loss: 0.1223 - accuracy: 0.9538 - val_loss: 0.3022 - val_accuracy: 0.9135\n",
      "Epoch 20/20\n",
      "1500/1500 [==============================] - 21s 14ms/step - loss: 0.1186 - accuracy: 0.9558 - val_loss: 0.3164 - val_accuracy: 0.9111\n"
     ]
    },
    {
     "data": {
      "text/plain": [
       "<tensorflow.python.keras.callbacks.History at 0x19e000089d0>"
      ]
     },
     "execution_count": 13,
     "metadata": {},
     "output_type": "execute_result"
    }
   ],
   "source": [
    "cnn_model.fit(\n",
    "    x_train, \n",
    "    y_train, \n",
    "    epochs=20, \n",
    "    validation_data=(x_validate,y_validate)\n",
    ")"
   ]
  },
  {
   "cell_type": "code",
   "execution_count": 14,
   "id": "ea24823c",
   "metadata": {},
   "outputs": [
    {
     "data": {
      "text/plain": [
       "<matplotlib.legend.Legend at 0x19e0051f2e0>"
      ]
     },
     "execution_count": 14,
     "metadata": {},
     "output_type": "execute_result"
    },
    {
     "data": {
      "image/png": "[encoded data removed]",
      "text/plain": [
       "<Figure size 432x288 with 1 Axes>"
      ]
     },
     "metadata": {
      "needs_background": "light"
     },
     "output_type": "display_data"
    }
   ],
   "source": [
    "model_losses=pd.DataFrame(cnn_model.history.history)\n",
    "model_losses['loss']\n",
    "plt.plot(model_losses['loss'], label='loss')\n",
    "plt.plot(model_losses['val_loss'], label='val_loss')\n",
    "\n",
    "plt.title('plotting of loss function')\n",
    "plt.plot(model_losses['accuracy'], label='accuracy')\n",
    "plt.legend()"
   ]
  },
  {
   "cell_type": "code",
   "execution_count": null,
   "id": "0143aa9a",
   "metadata": {},
   "outputs": [],
   "source": []
  },
  {
   "cell_type": "code",
   "execution_count": 15,
   "id": "5c6180b0",
   "metadata": {},
   "outputs": [
    {
     "data": {
      "text/plain": [
       "<AxesSubplot:>"
      ]
     },
     "execution_count": 15,
     "metadata": {},
     "output_type": "execute_result"
    },
    {
     "data": {
      "image/png": "[encoded data removed]",
      "text/plain": [
       "<Figure size 432x288 with 1 Axes>"
      ]
     },
     "metadata": {
      "needs_background": "light"
     },
     "output_type": "display_data"
    }
   ],
   "source": [
    "model_losses.plot()"
   ]
  },
  {
   "cell_type": "markdown",
   "id": "efe54620",
   "metadata": {},
   "source": [
    "## EVALUATE/SCORE THE MODE"
   ]
  },
  {
   "cell_type": "code",
   "execution_count": 16,
   "id": "289908a0",
   "metadata": {},
   "outputs": [
    {
     "data": {
      "text/plain": [
       "[0.2843686640262604, 0.9157999753952026]"
      ]
     },
     "execution_count": 16,
     "metadata": {},
     "output_type": "execute_result"
    }
   ],
   "source": [
    "score=cnn_model.evaluate(x_test, y_test, verbose=0)\n",
    "score"
   ]
  },
  {
   "cell_type": "code",
   "execution_count": 17,
   "id": "25287496",
   "metadata": {},
   "outputs": [
    {
     "name": "stdout",
     "output_type": "stream",
     "text": [
      "test loss=0.2843686640262604\n",
      "test accuracy=0.9157999753952026\n"
     ]
    }
   ],
   "source": [
    "print(f'test loss={score[0]}')\n",
    "print(f'test accuracy={score[1]}')"
   ]
  },
  {
   "cell_type": "code",
   "execution_count": 18,
   "id": "c670f60a",
   "metadata": {},
   "outputs": [],
   "source": [
    "#predictions\n",
    "yestimated=cnn_model.predict(x_test)"
   ]
  },
  {
   "cell_type": "code",
   "execution_count": 19,
   "id": "2016f150",
   "metadata": {},
   "outputs": [
    {
     "data": {
      "text/plain": [
       "array([[9.9998629e-01, 2.0636256e-18, 1.8718474e-06, ..., 7.0662104e-14,\n",
       "        5.7762456e-10, 3.9355929e-15],\n",
       "       [3.6200874e-13, 1.0000000e+00, 6.2075102e-15, ..., 1.2207701e-15,\n",
       "        1.6923794e-13, 1.2191144e-21],\n",
       "       [2.6745375e-02, 1.5762168e-06, 8.9907753e-01, ..., 6.5313518e-11,\n",
       "        1.0418624e-08, 2.7410478e-09],\n",
       "       ...,\n",
       "       [4.4667262e-20, 4.6343424e-20, 7.3244428e-18, ..., 7.6096560e-17,\n",
       "        1.0000000e+00, 4.0531750e-25],\n",
       "       [5.2612398e-10, 7.9417171e-20, 6.5000072e-15, ..., 1.8713567e-14,\n",
       "        1.0000000e+00, 2.5009649e-13],\n",
       "       [1.7535405e-05, 9.9969923e-01, 2.2475402e-05, ..., 1.2658106e-11,\n",
       "        3.3988921e-09, 1.6904851e-11]], dtype=float32)"
      ]
     },
     "execution_count": 19,
     "metadata": {},
     "output_type": "execute_result"
    }
   ],
   "source": [
    "yestimated"
   ]
  },
  {
   "cell_type": "code",
   "execution_count": null,
   "id": "0cad6bd7",
   "metadata": {},
   "outputs": [],
   "source": []
  },
  {
   "cell_type": "code",
   "execution_count": null,
   "id": "c4e63b82",
   "metadata": {},
   "outputs": [],
   "source": []
  }
 ],
 "metadata": {
  "kernelspec": {
   "display_name": "Python 3 (ipykernel)",
   "language": "python",
   "name": "python3"
  },
  "language_info": {
   "codemirror_mode": {
    "name": "ipython",
    "version": 3
   },
   "file_extension": ".py",
   "mimetype": "text/x-python",
   "name": "python",
   "nbconvert_exporter": "python",
   "pygments_lexer": "ipython3",
   "version": "3.8.11"
  }
 },
 "nbformat": 4,
 "nbformat_minor": 5
}
